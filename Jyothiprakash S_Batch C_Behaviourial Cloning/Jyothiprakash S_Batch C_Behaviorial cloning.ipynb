{
  "nbformat": 4,
  "nbformat_minor": 0,
  "metadata": {
    "colab": {
      "name": "Fake.ipynb",
      "version": "0.3.2",
      "views": {},
      "default_view": {},
      "provenance": [],
      "collapsed_sections": []
    },
    "kernelspec": {
      "name": "python3",
      "display_name": "Python 3"
    },
    "accelerator": "GPU"
  },
  "cells": [
    {
      "metadata": {
        "id": "WMgyrXAv9Dvf",
        "colab_type": "text"
      },
      "cell_type": "markdown",
      "source": [
        "\n",
        "# Behaviourial-Cloning \n",
        "## End to End learning for self driving cars\n",
        "\n",
        "### Overview \n",
        "In this project, Convolution Neural Networks is used to clone driving behaviour. The model outputs the steering angle to be used by the autonomous vehicle. \n",
        "\n",
        "### Goal \n",
        "The end goal is to build a machine learning model that can steer a car around a track without any human intervention. The model should ideally work on any test track and can start at any given location. We also want to avoid writing a lot of code to keep everything simple. Our model should take in images of what the car sees and output the correct steering angle (and maybe even the throttle).\n",
        "\n",
        "By utilizing deep learning, we should also be able to avoid manual feature engineering in the code. It also has a lot of edge-cases where features are computed incorrectly or additional features are required.\n",
        "\n",
        "The goals of this project is to train network to calculate the steering angle required for lane keeping from front camera image while obeying the following conditions in the model\n",
        "- Use only Winograd Convolutions\n",
        "- Use skip connection\n",
        "- Use  only 2  dense connections.\n",
        "\n",
        " \n",
        "### Approach\n",
        "The approach is to understand and start with the model as per the nvidia paper and make changes to satisfy the goals of this  project.\n",
        "##### Library:\n",
        "Model will be built and coded in Python using Keras framework. Keras uses TensorFlow as  the backend.\n",
        "##### Network:\n",
        "\n",
        "*Nvidia original architecture*\n",
        "[Nvidia paper](https://arxiv.org/pdf/1604.07316.pdf)\n",
        "![Nvidia's architecture](https://raw.githubusercontent.com/sohonisaurabh/xt-summit/master/resources/nvidia-architecture.png)\n",
        "\n",
        "*Our architecture*\n",
        "- Whereas aim of our model is to replace the above convolutions with winograd. i.e to replace 3x3 with combination of 3x1 and 1x3 convolutions, to replace 5x5 with combination of 5x1 and 1x5 convolutions and so on. \n",
        "- Also to use skip connections wherever necessary \n",
        "- Limit the usage of dense connection to only two.\n",
        "\n",
        "\n",
        "\n"
      ]
    },
    {
      "metadata": {
        "id": "Ad761REn_r7C",
        "colab_type": "text"
      },
      "cell_type": "markdown",
      "source": [
        "### Training process\n",
        "\n",
        "#### Data generation\n",
        "**Hardware**\n",
        "\n",
        "![Hardware design of data generation](https://camo.githubusercontent.com/4c5a372b40f1e1cf1f17b4ccd88ff22fd9a3b12b/68747470733a2f2f646576626c6f67732e6e76696469612e636f6d2f706172616c6c656c666f72616c6c2f77702d636f6e74656e742f75706c6f6164732f323031362f30382f646174612d636f6c6c656374696f6e2d73797374656d2e706e67)\n",
        "\n",
        "**Software**\n",
        "\n",
        "![Software Design (supervised learning!)](https://camo.githubusercontent.com/aa16e5111df7ff6c5f66fbcdf48ab355a85e70ba/68747470733a2f2f646576626c6f67732e6e76696469612e636f6d2f706172616c6c656c666f72616c6c2f77702d636f6e74656e742f75706c6f6164732f323031362f30382f747261696e696e672e706e67)\n",
        "\n",
        "**Training network**\n",
        "![](https://camo.githubusercontent.com/60bf8d3951f1b5cb3cc6fd59195dfca302b24bf2/68747470733a2f2f646576626c6f67732e6e76696469612e636f6d2f706172616c6c656c666f72616c6c2f77702d636f6e74656e742f75706c6f6164732f323031362f30382f696e666572656e63652e706e67)\n",
        "\n",
        "### Testing process \n",
        "![Testing](https://camo.githubusercontent.com/e225b508bec2b7d4792856f1881ad77abc5fac7b/68747470733a2f2f63646e2d696d616765732d312e6d656469756d2e636f6d2f6d61782f313434302f312a6e6c7573615f664335426e73676e5750466e6f7637512e74696666)"
      ]
    },
    {
      "metadata": {
        "id": "ToGtsHBQ_sMw",
        "colab_type": "text"
      },
      "cell_type": "markdown",
      "source": [
        "# Backgroung on some concepts\n",
        "\n",
        "### What is 'Deep Learning'\n",
        "Deep Learning is an artificial intelligence function that imitates the workings of the human brain in processing data and creating patterns for use in decision making. Deep learning is a subset of machine learning in Artificial Intelligence (AI) that has networks capable of learning unsupervised from data that is unstructured or unlabeled.\n",
        "\n",
        "Also known as Deep Neural Learning or Deep Neural Network.\n",
        "\n",
        "### CNN\n",
        "In machine learning, a convolutional neural network (CNN, or ConvNet) is a class of deep, feed-forward artificial neural networks, most commonly applied to analyzing visual imagery.\n",
        "\n",
        "For a more detailed explaination click [here](https://medium.com/technologymadeeasy/the-best-explanation-of-convolutional-neural-networks-on-the-internet-fbb8b1ad5df8)\n",
        "\n",
        "### Winograd\n",
        "[Winograd paper](https://arxiv.org/abs/1509.09308)\n",
        "\n",
        "Basically, to use seperable convolutions and then combine the outputs using 1x1 convolutions. \n",
        "\n",
        "That is from the existing model replace 3x3 with combination of 3x1 and 1x3 convolutions, to replace 5x5 with combination of 5x1 and 1x5 convolutions and so on.\n",
        "\n",
        "### Skip connections\n",
        "\n",
        "![Skip connection](https://image.slidesharecdn.com/datasciencemeetup192f102f20171-171023084040/95/skip-residual-and-densely-connected-rnn-architectures-12-638.jpg?cb=1508748277)\n",
        "\n",
        "\n",
        "Degenerate manifolds arising from the non-identifiability of the model slow down learning in deep networks; skip connections help by breaking degeneracies.\n",
        "\n",
        "For more, click [here](https://openreview.net/forum?id=HkwBEMWCZ)\n",
        "\n",
        "![Skip connection](https://i.stack.imgur.com/gSxcB.png)\n",
        "\n",
        "\n",
        "### Dense layers\n",
        "\n",
        "Dense/fully connected layer is a linear operation on the layer’s input vector. that is it is a linear operation in which every input is connected to every output by a weight (so there are n_inputs * n_outputs weights - which can be a lot!). Generally followed by a non-linear activation function\n",
        "\n",
        "A dense layer represents a matrix vector multiplication. (assuming your batch size is 1) The values in the matrix are the trainable parameters which get updated during backpropagation.\n",
        "\n",
        "$$u^T.W,W∈R^{n×m}$$\n",
        "\n",
        "So you get a m dimensional vector as output. A dense layer thus is used to change the dimensions of your vector. Mathematically speaking, it applies a rotation, scaling, translation transform to your vector."
      ]
    },
    {
      "metadata": {
        "id": "9ZhWXr1S-a13",
        "colab_type": "text"
      },
      "cell_type": "markdown",
      "source": [
        ""
      ]
    },
    {
      "metadata": {
        "id": "Q4NbKJNnKNF0",
        "colab_type": "text"
      },
      "cell_type": "markdown",
      "source": [
        "## *Simulator by udacity can be found here to generate own data for training-*\n",
        "https://github.com/udacity/self-driving-car-sim"
      ]
    },
    {
      "metadata": {
        "id": "i42_b4tWtoqa",
        "colab_type": "text"
      },
      "cell_type": "markdown",
      "source": [
        "## 1. Setup and get the data\n",
        "Some basic setup for the rest of the project.\n",
        "\n"
      ]
    },
    {
      "metadata": {
        "id": "JRxMVC1_36Sg",
        "colab_type": "code",
        "colab": {
          "autoexec": {
            "startup": false,
            "wait_interval": 0
          }
        }
      },
      "cell_type": "code",
      "source": [
        ""
      ],
      "execution_count": 0,
      "outputs": []
    },
    {
      "metadata": {
        "id": "jx-gWoAD36w6",
        "colab_type": "code",
        "colab": {
          "autoexec": {
            "startup": false,
            "wait_interval": 0
          }
        }
      },
      "cell_type": "code",
      "source": [
        ""
      ],
      "execution_count": 0,
      "outputs": []
    },
    {
      "metadata": {
        "id": "tyWYuSg0l1iK",
        "colab_type": "code",
        "colab": {
          "autoexec": {
            "startup": false,
            "wait_interval": 0
          },
          "base_uri": "https://localhost:8080/",
          "height": 204
        },
        "outputId": "669ece91-e473-47cf-8da5-aad6607373a4",
        "executionInfo": {
          "status": "ok",
          "timestamp": 1530375068019,
          "user_tz": -330,
          "elapsed": 17922,
          "user": {
            "displayName": "Jyothiprakash S",
            "photoUrl": "https://lh3.googleusercontent.com/a/default-user=s128",
            "userId": "101244440224751470017"
          }
        }
      },
      "cell_type": "code",
      "source": [
        "!wget https://d17h27t6h515a5.cloudfront.net/topher/2016/December/584f6edd_data/data.zip -O data.zip"
      ],
      "execution_count": 2,
      "outputs": [
        {
          "output_type": "stream",
          "text": [
            "--2018-06-30 16:10:53--  https://d17h27t6h515a5.cloudfront.net/topher/2016/December/584f6edd_data/data.zip\n",
            "Resolving d17h27t6h515a5.cloudfront.net (d17h27t6h515a5.cloudfront.net)... 13.33.166.150, 13.33.166.88, 13.33.166.29, ...\n",
            "Connecting to d17h27t6h515a5.cloudfront.net (d17h27t6h515a5.cloudfront.net)|13.33.166.150|:443... connected.\n",
            "HTTP request sent, awaiting response... 200 OK\n",
            "Length: 333137665 (318M) [application/zip]\n",
            "Saving to: ‘data.zip’\n",
            "\n",
            "data.zip            100%[===================>] 317.70M  18.7MB/s    in 16s     \n",
            "\n",
            "2018-06-30 16:11:09 (20.1 MB/s) - ‘data.zip’ saved [333137665/333137665]\n",
            "\n"
          ],
          "name": "stdout"
        }
      ]
    },
    {
      "metadata": {
        "id": "uthzLlWmkA_p",
        "colab_type": "code",
        "colab": {
          "autoexec": {
            "startup": false,
            "wait_interval": 0
          },
          "resources": {
            "http://localhost:8080/nbextensions/google.colab/files.js": {
              "data": "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",
              "ok": true,
              "headers": [
                [
                  "content-type",
                  "application/javascript"
                ]
              ],
              "status": 200,
              "status_text": ""
            }
          },
          "base_uri": "https://localhost:8080/",
          "height": 106
        },
        "outputId": "80b0ec4f-ebd5-48ff-f3ac-21a7c1a34ec8",
        "executionInfo": {
          "status": "ok",
          "timestamp": 1530375427816,
          "user_tz": -330,
          "elapsed": 243998,
          "user": {
            "displayName": "Jyothiprakash S",
            "photoUrl": "https://lh3.googleusercontent.com/a/default-user=s128",
            "userId": "101244440224751470017"
          }
        }
      },
      "cell_type": "code",
      "source": [
        "from google.colab import files\n",
        "uploaded = files.upload()"
      ],
      "execution_count": 4,
      "outputs": [
        {
          "output_type": "display_data",
          "data": {
            "text/html": [
              "\n",
              "     <input type=\"file\" id=\"files-5d3cee3e-e837-4198-a1cf-fb8929c8dc46\" name=\"files[]\" multiple disabled />\n",
              "     <output id=\"result-5d3cee3e-e837-4198-a1cf-fb8929c8dc46\">\n",
              "      Upload widget is only available when the cell has been executed in the\n",
              "      current browser session. Please rerun this cell to enable.\n",
              "      </output>\n",
              "      <script src=\"/nbextensions/google.colab/files.js\"></script> "
            ],
            "text/plain": [
              "<IPython.core.display.HTML object>"
            ]
          },
          "metadata": {
            "tags": []
          }
        },
        {
          "output_type": "stream",
          "text": [
            "Saving data_test.zip to data_test.zip\n",
            "Saving data_val.zip to data_val.zip\n"
          ],
          "name": "stdout"
        }
      ]
    },
    {
      "metadata": {
        "id": "H7tIMwOZk1E6",
        "colab_type": "code",
        "colab": {
          "autoexec": {
            "startup": false,
            "wait_interval": 0
          }
        }
      },
      "cell_type": "code",
      "source": [
        "!unzip -q data.zip\n",
        "!mv data udacity_data\n",
        "!rm -rf __MACOSX/"
      ],
      "execution_count": 0,
      "outputs": []
    },
    {
      "metadata": {
        "id": "AdNZeuS8R-3E",
        "colab_type": "text"
      },
      "cell_type": "markdown",
      "source": [
        "\n",
        "Unzip prepared validation and training sets:\n",
        "\n",
        "- validation set is a custom driving data of the 1st track\n",
        "\n",
        "- test set is a custom driving data of the 2nd track"
      ]
    },
    {
      "metadata": {
        "id": "4NKvxJO5SJuF",
        "colab_type": "code",
        "colab": {
          "autoexec": {
            "startup": false,
            "wait_interval": 0
          }
        }
      },
      "cell_type": "code",
      "source": [
        "!unzip -q data_val.zip\n",
        "!unzip -q data_test.zip"
      ],
      "execution_count": 0,
      "outputs": []
    },
    {
      "metadata": {
        "id": "Zi0TFpDjSQrf",
        "colab_type": "code",
        "colab": {
          "autoexec": {
            "startup": false,
            "wait_interval": 0
          }
        }
      },
      "cell_type": "code",
      "source": [
        "DATA_TRAIN_FOLDER = 'udacity_data/'\n",
        "DATA_VAL_FOLDER = 'data_val/'\n",
        "DATA_TEST_FOLDER = 'data_test/'"
      ],
      "execution_count": 0,
      "outputs": []
    },
    {
      "metadata": {
        "id": "4fQ0u607Wv6i",
        "colab_type": "text"
      },
      "cell_type": "markdown",
      "source": [
        "**Imports**"
      ]
    },
    {
      "metadata": {
        "id": "btyD-5IFtpMf",
        "colab_type": "code",
        "colab": {
          "autoexec": {
            "startup": false,
            "wait_interval": 0
          }
        }
      },
      "cell_type": "code",
      "source": [
        "import pandas as pd\n",
        "import numpy as np\n",
        "import cv2\n",
        "\n",
        "import matplotlib.pyplot as plt\n",
        "import seaborn\n",
        "%matplotlib inline"
      ],
      "execution_count": 0,
      "outputs": []
    },
    {
      "metadata": {
        "id": "A_PZffNptpem",
        "colab_type": "text"
      },
      "cell_type": "markdown",
      "source": [
        "### 2. Data collection and Analysis\n",
        "\n",
        "The data here is taken from Udacity but you can also create your own using the simulator train option. \n",
        "It is reccomended to try driving in \"recovery\" paths so the car learns that when you are on the side of the road you should maneuver back to the center.\n",
        "I used dataset provided by udacity as a training set. For validation I recorded my own data on first track by passing one single lap. Test data for final model evaluation is recorded by me on 2nd track by passing the road until deadend.\n",
        "\n",
        "\n"
      ]
    },
    {
      "metadata": {
        "id": "eC--mkCYS0tp",
        "colab_type": "code",
        "colab": {
          "autoexec": {
            "startup": false,
            "wait_interval": 0
          }
        }
      },
      "cell_type": "code",
      "source": [
        "train_source = pd.read_csv(DATA_TRAIN_FOLDER + 'driving_log.csv')\n",
        "train_nonzero = train_source[train_source.steering != 0]\n",
        "train_zero = (train_source[train_source.steering == 0]).sample(frac=.1)"
      ],
      "execution_count": 0,
      "outputs": []
    },
    {
      "metadata": {
        "id": "PpOXqdD6S2SL",
        "colab_type": "code",
        "colab": {
          "autoexec": {
            "startup": false,
            "wait_interval": 0
          },
          "base_uri": "https://localhost:8080/",
          "height": 282
        },
        "outputId": "06e1ece6-e7d1-489d-f463-16b26fba1356",
        "executionInfo": {
          "status": "ok",
          "timestamp": 1530375877415,
          "user_tz": -330,
          "elapsed": 1031,
          "user": {
            "displayName": "Jyothiprakash S",
            "photoUrl": "https://lh3.googleusercontent.com/a/default-user=s128",
            "userId": "101244440224751470017"
          }
        }
      },
      "cell_type": "code",
      "source": [
        "data_train = pd.concat([train_nonzero, train_zero], ignore_index=True)\n",
        "data_train.steering.hist(bins=100)"
      ],
      "execution_count": 11,
      "outputs": [
        {
          "output_type": "execute_result",
          "data": {
            "text/plain": [
              "<matplotlib.axes._subplots.AxesSubplot at 0x7fb82db33358>"
            ]
          },
          "metadata": {
            "tags": []
          },
          "execution_count": 11
        },
        {
          "output_type": "display_data",
          "data": {
            "image/png": "[encoded data removed]",
            "text/plain": [
              "<matplotlib.figure.Figure at 0x7fb82ddc9a90>"
            ]
          },
          "metadata": {
            "tags": []
          }
        }
      ]
    },
    {
      "metadata": {
        "id": "FrncHYmBS5j7",
        "colab_type": "code",
        "colab": {
          "autoexec": {
            "startup": false,
            "wait_interval": 0
          }
        }
      },
      "cell_type": "code",
      "source": [
        "names = ['center', 'left', 'right', 'steering', 'throttle', 'brake', 'speed']\n",
        "data_val = pd.read_csv(DATA_VAL_FOLDER + 'driving_log.csv', names=names)\n",
        "data_test = pd.read_csv(DATA_TEST_FOLDER + 'driving_log.csv', names=names)"
      ],
      "execution_count": 0,
      "outputs": []
    },
    {
      "metadata": {
        "id": "nhBSJt1TS8vP",
        "colab_type": "code",
        "colab": {
          "autoexec": {
            "startup": false,
            "wait_interval": 0
          },
          "base_uri": "https://localhost:8080/",
          "height": 282
        },
        "outputId": "911d2b51-99b3-4034-f3f6-3523eaee1d06",
        "executionInfo": {
          "status": "ok",
          "timestamp": 1530330601997,
          "user_tz": -330,
          "elapsed": 904,
          "user": {
            "displayName": "Jyothiprakash S",
            "photoUrl": "https://lh3.googleusercontent.com/a/default-user=s128",
            "userId": "101244440224751470017"
          }
        }
      },
      "cell_type": "code",
      "source": [
        "data_val.steering.hist(bins=30)"
      ],
      "execution_count": 38,
      "outputs": [
        {
          "output_type": "execute_result",
          "data": {
            "text/plain": [
              "<matplotlib.axes._subplots.AxesSubplot at 0x7f23b7a77f28>"
            ]
          },
          "metadata": {
            "tags": []
          },
          "execution_count": 38
        },
        {
          "output_type": "display_data",
          "data": {
            "image/png": "[encoded data removed]",
            "text/plain": [
              "<matplotlib.figure.Figure at 0x7f23b59e4780>"
            ]
          },
          "metadata": {
            "tags": []
          }
        }
      ]
    },
    {
      "metadata": {
        "id": "FyV-VNC6TBhn",
        "colab_type": "code",
        "colab": {
          "autoexec": {
            "startup": false,
            "wait_interval": 0
          },
          "base_uri": "https://localhost:8080/",
          "height": 282
        },
        "outputId": "ba67a102-a1e1-4467-94a3-7fa784b24976",
        "executionInfo": {
          "status": "ok",
          "timestamp": 1530375883906,
          "user_tz": -330,
          "elapsed": 765,
          "user": {
            "displayName": "Jyothiprakash S",
            "photoUrl": "https://lh3.googleusercontent.com/a/default-user=s128",
            "userId": "101244440224751470017"
          }
        }
      },
      "cell_type": "code",
      "source": [
        "data_test.steering.hist(bins=30)"
      ],
      "execution_count": 13,
      "outputs": [
        {
          "output_type": "execute_result",
          "data": {
            "text/plain": [
              "<matplotlib.axes._subplots.AxesSubplot at 0x7fb82da20748>"
            ]
          },
          "metadata": {
            "tags": []
          },
          "execution_count": 13
        },
        {
          "output_type": "display_data",
          "data": {
            "image/png": "[encoded data removed]",
            "text/plain": [
              "<matplotlib.figure.Figure at 0x7fb835511b70>"
            ]
          },
          "metadata": {
            "tags": []
          }
        }
      ]
    },
    {
      "metadata": {
        "id": "59vW6JLiTGh9",
        "colab_type": "code",
        "colab": {
          "autoexec": {
            "startup": false,
            "wait_interval": 0
          },
          "base_uri": "https://localhost:8080/",
          "height": 34
        },
        "outputId": "54417f01-c166-41b2-f060-58052bb939d3",
        "executionInfo": {
          "status": "ok",
          "timestamp": 1530375888721,
          "user_tz": -330,
          "elapsed": 782,
          "user": {
            "displayName": "Jyothiprakash S",
            "photoUrl": "https://lh3.googleusercontent.com/a/default-user=s128",
            "userId": "101244440224751470017"
          }
        }
      },
      "cell_type": "code",
      "source": [
        "len(data_train), len(data_val), len(data_test)"
      ],
      "execution_count": 14,
      "outputs": [
        {
          "output_type": "execute_result",
          "data": {
            "text/plain": [
              "(4111, 748, 948)"
            ]
          },
          "metadata": {
            "tags": []
          },
          "execution_count": 14
        }
      ]
    },
    {
      "metadata": {
        "id": "yV7N8ckqtqFP",
        "colab_type": "text"
      },
      "cell_type": "markdown",
      "source": [
        "**Interesting Observations**\n",
        "- Steering angle varies between -1.0 and 1.0 but its almost always 0 (driving straight). This is not good as then our model would be biased to driving straight.\n",
        "- The car was driven at it's maximum speed most of the time.\n",
        "- The throttle was barely adjusted while driving and same with the breaking which was rarely applied.\n",
        "- Steering data is biased towards turning left."
      ]
    },
    {
      "metadata": {
        "id": "y-r1QBShtqso",
        "colab_type": "text"
      },
      "cell_type": "markdown",
      "source": [
        "### 3. Data augmentation and generation \n",
        "\n",
        "\n",
        "**Data Augmentation**\n",
        "\n",
        "*To increase the amount of data by making changes to the original data and making copies. Data augmentation is a way to get around a lack of data. Also helps to prevent over-fitting*\n",
        "\n",
        "\n",
        "To train a model with such small data, I have to use augmentation. First idea is to flip images horizontally and negate the steering angle.Also brightness and translation augmentations are performed.\n",
        "\n",
        "\n",
        "\n",
        "image_transformation:to cut useless part of images. This preprocessing is used for train and prediction code aswell\n",
        "\n"
      ]
    },
    {
      "metadata": {
        "id": "IcWHtfC-WEJe",
        "colab_type": "code",
        "colab": {
          "autoexec": {
            "startup": false,
            "wait_interval": 0
          }
        }
      },
      "cell_type": "code",
      "source": [
        "input_shape = (64, 64, 3)"
      ],
      "execution_count": 0,
      "outputs": []
    },
    {
      "metadata": {
        "id": "v_Fb4oGUWHAg",
        "colab_type": "code",
        "colab": {
          "autoexec": {
            "startup": false,
            "wait_interval": 0
          }
        }
      },
      "cell_type": "code",
      "source": [
        "def _get_img_and_steering_from_row(row, folder):\n",
        "    imgpath = row.center.values[0]\n",
        "    imgpath = imgpath[imgpath.find('IMG'):]\n",
        "    img = cv2.imread(folder + imgpath)\n",
        "    img = cv2.cvtColor(img, cv2.COLOR_BGR2RGB)\n",
        "    steering = row.steering.values[0]\n",
        "    return img, steering\n",
        "\n",
        "\n",
        "def _get_img_and_steering_from_iloc_row(row, folder):\n",
        "    imgpath = row.center\n",
        "    imgpath = imgpath[imgpath.find('IMG'):]\n",
        "    img = cv2.imread(folder + imgpath)\n",
        "    img = cv2.cvtColor(img, cv2.COLOR_BGR2RGB)\n",
        "    steering = row.steering\n",
        "    return img, steering\n",
        "\n",
        "\n",
        "def _get_flipped_image(img, y):\n",
        "    img = cv2.flip(img, 1)\n",
        "    return img, -y\n",
        "\n",
        "\n",
        "def _get_brightnessed_image(img):\n",
        "    img = cv2.cvtColor(img, cv2.COLOR_RGB2HSV)\n",
        "    random_bright = .25 + np.random.uniform()\n",
        "    img[:,:,2] = img[:,:,2] * random_bright\n",
        "    img = cv2.cvtColor(img, cv2.COLOR_HSV2RGB)\n",
        "    return img\n",
        "\n",
        "\n",
        "def _get_translated_image(img, y, trans_range):\n",
        "    rows, cols, _ = img.shape\n",
        "    tr_x = trans_range * np.random.uniform() - trans_range/2\n",
        "    y = y + tr_x/trans_range * 2 *.4\n",
        "    tr_y = 10 * np.random.uniform() - 10/2\n",
        "    Trans_M = np.float32([[1,0, tr_x], [0,1, tr_y]])\n",
        "    img = cv2.warpAffine(img, Trans_M, (cols, rows))\n",
        "    return img, y\n",
        "\n",
        "\n",
        "def image_augmentation(img, y):\n",
        "    if np.random.uniform() < 0.5:\n",
        "        img, y = _get_flipped_image(img, y)\n",
        "    img = _get_brightnessed_image(img)\n",
        "    img, y = _get_translated_image(img, y, 100)\n",
        "    return img, y\n",
        "\n",
        "\n",
        "def image_transformation(img):\n",
        "    img = img[60:-20,:,:]\n",
        "    img = cv2.resize(img, (input_shape[1], input_shape[0]), interpolation=cv2.INTER_AREA)\n",
        "    return img"
      ],
      "execution_count": 0,
      "outputs": []
    },
    {
      "metadata": {
        "id": "vuTQAd2NWJjI",
        "colab_type": "code",
        "colab": {
          "autoexec": {
            "startup": false,
            "wait_interval": 0
          },
          "base_uri": "https://localhost:8080/",
          "height": 285
        },
        "outputId": "eab404c7-ef0c-4980-8390-4f178fe8e788",
        "executionInfo": {
          "status": "ok",
          "timestamp": 1530375941446,
          "user_tz": -330,
          "elapsed": 829,
          "user": {
            "displayName": "Jyothiprakash S",
            "photoUrl": "https://lh3.googleusercontent.com/a/default-user=s128",
            "userId": "101244440224751470017"
          }
        }
      },
      "cell_type": "code",
      "source": [
        "row = data_train.sample()\n",
        "img, steering = _get_img_and_steering_from_row(row, DATA_TRAIN_FOLDER)\n",
        "img, steering = image_augmentation(img, steering)\n",
        "img = image_transformation(img)\n",
        "plt.imshow(img)\n",
        "plt.axis('off')"
      ],
      "execution_count": 18,
      "outputs": [
        {
          "output_type": "execute_result",
          "data": {
            "text/plain": [
              "(-0.5, 63.5, 63.5, -0.5)"
            ]
          },
          "metadata": {
            "tags": []
          },
          "execution_count": 18
        },
        {
          "output_type": "display_data",
          "data": {
            "image/png": "[encoded data removed]",
            "text/plain": [
              "<matplotlib.figure.Figure at 0x7fb82da31ef0>"
            ]
          },
          "metadata": {
            "tags": []
          }
        }
      ]
    },
    {
      "metadata": {
        "id": "crhqZGzDd5vz",
        "colab_type": "text"
      },
      "cell_type": "markdown",
      "source": [
        "There are 3 generators: \n",
        "- train\n",
        "- for validation \n",
        "- for test sets. \n",
        "\n",
        "Train generator has to make random data.Validation and test generators sequentially go through the data to ensure repeatability and consistency of evaluations. Here is how all of them loos like:"
      ]
    },
    {
      "metadata": {
        "id": "FSlTh4JgWUNA",
        "colab_type": "code",
        "colab": {
          "autoexec": {
            "startup": false,
            "wait_interval": 0
          }
        }
      },
      "cell_type": "code",
      "source": [
        "def train_data_generator(batch_size):\n",
        "    while True:\n",
        "        X = np.zeros((batch_size, *input_shape), dtype=np.float32)\n",
        "        y = np.zeros((batch_size,), dtype=np.float32)\n",
        "        for idx in range(batch_size):\n",
        "            row = data_train.sample()\n",
        "            img, steering = _get_img_and_steering_from_row(row, DATA_TRAIN_FOLDER)\n",
        "            img, steering = image_augmentation(img, steering)\n",
        "            img = image_transformation(img)\n",
        "            X[idx], y[idx] = img, steering\n",
        "        yield X, y"
      ],
      "execution_count": 0,
      "outputs": []
    },
    {
      "metadata": {
        "id": "x_HIdwKpWXHf",
        "colab_type": "code",
        "colab": {
          "autoexec": {
            "startup": false,
            "wait_interval": 0
          }
        }
      },
      "cell_type": "code",
      "source": [
        "def val_data_generator(batch_size):\n",
        "    seq_idx = 0\n",
        "    while True:\n",
        "        X = np.zeros((batch_size, *input_shape), dtype=np.float32)\n",
        "        y = np.zeros((batch_size,), dtype=np.float32)\n",
        "        for idx in range(batch_size):\n",
        "            row = data_val.iloc[seq_idx]\n",
        "            img, steering = _get_img_and_steering_from_iloc_row(row, DATA_VAL_FOLDER)\n",
        "            img = image_transformation(img)\n",
        "            X[idx], y[idx] = img, steering\n",
        "            \n",
        "            seq_idx += 1\n",
        "            if seq_idx == len(data_val):\n",
        "                seq_idx = 0\n",
        "        yield X, y"
      ],
      "execution_count": 0,
      "outputs": []
    },
    {
      "metadata": {
        "id": "S4NufH62WcSf",
        "colab_type": "code",
        "colab": {
          "autoexec": {
            "startup": false,
            "wait_interval": 0
          }
        }
      },
      "cell_type": "code",
      "source": [
        "def test_data_generator(batch_size):\n",
        "    seq_idx = 0\n",
        "    while True:\n",
        "        X = np.zeros((batch_size, *input_shape), dtype=np.float32)\n",
        "        y = np.zeros((batch_size,), dtype=np.float32)\n",
        "        for idx in range(batch_size):\n",
        "            row = data_test.iloc[seq_idx]\n",
        "            img, steering = _get_img_and_steering_from_iloc_row(row, DATA_TEST_FOLDER)\n",
        "            img = image_transformation(img)\n",
        "            X[idx], y[idx] = img, steering\n",
        "            \n",
        "            seq_idx += 1\n",
        "            if seq_idx == len(data_test):\n",
        "                seq_idx = 0\n",
        "        yield X, y"
      ],
      "execution_count": 0,
      "outputs": []
    },
    {
      "metadata": {
        "id": "z4x8BcB26uuG",
        "colab_type": "text"
      },
      "cell_type": "markdown",
      "source": [
        "### 4. Building the Model\n",
        "\n",
        "\n",
        "\n",
        "\n",
        "The model will take in an image (either from the left, center, or right camera) and output a single number between -1 and 1 representing the steering angle.  Keras is used  to implement the model. Keras is a deep learning library that runs on Tensorflow or Theano and is best for fast prototyping. "
      ]
    },
    {
      "metadata": {
        "id": "jHfgTu106vCO",
        "colab_type": "text"
      },
      "cell_type": "markdown",
      "source": [
        ""
      ]
    },
    {
      "metadata": {
        "id": "SUfy8shKW8RT",
        "colab_type": "code",
        "colab": {
          "autoexec": {
            "startup": false,
            "wait_interval": 0
          },
          "base_uri": "https://localhost:8080/",
          "height": 34
        },
        "outputId": "ee2a127a-47ad-467b-beb1-16b1a87d12c6",
        "executionInfo": {
          "status": "ok",
          "timestamp": 1530375961668,
          "user_tz": -330,
          "elapsed": 8706,
          "user": {
            "displayName": "Jyothiprakash S",
            "photoUrl": "https://lh3.googleusercontent.com/a/default-user=s128",
            "userId": "101244440224751470017"
          }
        }
      },
      "cell_type": "code",
      "source": [
        "from keras.models import Sequential\n",
        "from keras.layers import Dense, Dropout, Flatten, ELU, Lambda\n",
        "from keras.layers.convolutional import Convolution2D, MaxPooling2D\n",
        "from keras.callbacks import ModelCheckpoint"
      ],
      "execution_count": 22,
      "outputs": [
        {
          "output_type": "stream",
          "text": [
            "Using TensorFlow backend.\n"
          ],
          "name": "stderr"
        }
      ]
    },
    {
      "metadata": {
        "id": "-V8ScOe6hDbW",
        "colab_type": "text"
      },
      "cell_type": "markdown",
      "source": [
        "**Code as per Nvidia's model**\n",
        "\n",
        "```\n",
        "def get_model():\n",
        "    model = Sequential()\n",
        "    model.add(Lambda(lambda x: x/127.5 - 1., input_shape=input_shape))\n",
        "    model.add(Convolution2D(3,1,1,  border_mode='valid', name='conv0', init='he_normal'))\n",
        "    model.add(Convolution2D(32,3,3, border_mode='valid', name='conv1', init='he_normal'))\n",
        "    model.add(ELU())\n",
        "    model.add(Convolution2D(32,3,3, border_mode='valid', name='conv2', init='he_normal'))\n",
        "    model.add(ELU())\n",
        "    model.add(MaxPooling2D(pool_size=(2,2)))\n",
        "    model.add(Dropout(0.5))\n",
        "    \n",
        "    model.add(Convolution2D(64,3,3, border_mode='valid', name='conv3', init='he_normal'))\n",
        "    model.add(ELU())\n",
        "    model.add(Convolution2D(64,3,3, border_mode='valid', name='conv4', init='he_normal'))\n",
        "    model.add(ELU())\n",
        "    model.add(MaxPooling2D(pool_size=(2,2)))\n",
        "    model.add(Dropout(0.5))\n",
        "    \n",
        "    model.add(Convolution2D(128,3,3, border_mode='valid', name='conv5', init='he_normal'))\n",
        "    model.add(ELU())\n",
        "    model.add(Convolution2D(128,3,3, border_mode='valid', name='conv6', init='he_normal'))\n",
        "    model.add(ELU())\n",
        "    model.add(MaxPooling2D(pool_size=(2,2)))\n",
        "    model.add(Dropout(0.5))\n",
        "    \n",
        "    model.add(Flatten())\n",
        "    model.add(Dense(512,name='hidden1', init='he_normal'))\n",
        "    model.add(ELU())\n",
        "    model.add(Dropout(0.5))\n",
        "    model.add(Dense(64,name='hidden2', init='he_normal'))\n",
        "    model.add(ELU())\n",
        "    model.add(Dropout(0.5))\n",
        "    model.add(Dense(16,name='hidden3',init='he_normal'))\n",
        "    model.add(ELU())\n",
        "    model.add(Dropout(0.5))\n",
        "    model.add(Dense(1, name='output', init='he_normal'))\n",
        "    model.compile(optimizer=\"adam\", loss=\"mse\")\n",
        "    return model\n",
        "```\n",
        "\n"
      ]
    },
    {
      "metadata": {
        "id": "dGE_EeQxtrVW",
        "colab_type": "code",
        "colab": {
          "autoexec": {
            "startup": false,
            "wait_interval": 0
          }
        }
      },
      "cell_type": "code",
      "source": [
        "def get_model():\n",
        "    model = Sequential()\n",
        "    model.add(Lambda(lambda x: x/127.5 - 1., input_shape=input_shape))\n",
        "    model.add(Convolution2D(3,1,1,  border_mode='valid', name='conv0', init='he_normal'))\n",
        "    model.add(Convolution2D(32,3,1, border_mode='valid', name='conv1.0', init='he_normal'))\n",
        "    model.add(Convolution2D(32,1,3, border_mode='valid', name='conv1.1', init='he_normal'))\n",
        "    model.add(Convolution2D(32,1,1, border_mode='valid', name='conv1.2', init='he_normal'))\n",
        "    model.add(ELU())\n",
        "    model.add(Convolution2D(32,3,1, border_mode='valid', name='conv2.0', init='he_normal'))\n",
        "    model.add(Convolution2D(32,1,3, border_mode='valid', name='conv2.1', init='he_normal'))\n",
        "    model.add(Convolution2D(32,1,1, border_mode='valid', name='conv2.2', init='he_normal'))\n",
        "    model.add(ELU())\n",
        "    model.add(MaxPooling2D(pool_size=(2,2)))\n",
        "    model.add(Dropout(0.5))  \n",
        "    model.add(Convolution2D(64,3,1, border_mode='valid', name='conv3.0', init='he_normal'))\n",
        "    model.add(Convolution2D(64,1,3, border_mode='valid', name='conv3.1', init='he_normal'))\n",
        "    model.add(Convolution2D(64,1,1, border_mode='valid', name='conv3.2', init='he_normal'))\n",
        "    model.add(ELU())\n",
        "    model.add(Convolution2D(64,3,1, border_mode='valid', name='conv4.0', init='he_normal'))\n",
        "    model.add(Convolution2D(64,1,3, border_mode='valid', name='conv4.1', init='he_normal'))\n",
        "    model.add(Convolution2D(64,1,1, border_mode='valid', name='conv4.2', init='he_normal'))\n",
        "    model.add(ELU())\n",
        "    model.add(MaxPooling2D(pool_size=(2,2)))\n",
        "    model.add(Dropout(0.5))\n",
        "    model.add(Convolution2D(128,3,1, border_mode='valid', name='conv5.0', init='he_normal'))\n",
        "    model.add(Convolution2D(128,1,3, border_mode='valid', name='conv5.1', init='he_normal'))\n",
        "    model.add(Convolution2D(128,1,1, border_mode='valid', name='conv5.2', init='he_normal'))\n",
        "    model.add(ELU())\n",
        "    model.add(Convolution2D(128,3,1, border_mode='valid', name='conv6.0', init='he_normal'))\n",
        "    model.add(Convolution2D(128,1,3, border_mode='valid', name='conv6.1', init='he_normal'))\n",
        "    model.add(Convolution2D(128,1,1, border_mode='valid', name='conv6.2', init='he_normal'))\n",
        "    model.add(ELU())\n",
        "    model.add(MaxPooling2D(pool_size=(2,2)))\n",
        "    model.add(Dropout(0.5))\n",
        "    \n",
        "    model.add(Flatten())\n",
        "    model.add(Dense(512,name='hidden1', init='he_normal'))\n",
        "    model.add(ELU())\n",
        "    model.add(Dropout(0.5))\n",
        "    model.add(Dense(32,name='hidden2', init='he_normal'))\n",
        "    model.add(ELU())\n",
        "    model.add(Dropout(0.5))\n",
        "    model.add(Dense(1, name='output', init='he_normal'))\n",
        "    model.compile(optimizer=\"adam\", loss=\"mse\")\n",
        "    return model"
      ],
      "execution_count": 0,
      "outputs": []
    },
    {
      "metadata": {
        "id": "J86TWOQ9hCcx",
        "colab_type": "code",
        "colab": {
          "autoexec": {
            "startup": false,
            "wait_interval": 0
          }
        }
      },
      "cell_type": "code",
      "source": [
        ""
      ],
      "execution_count": 0,
      "outputs": []
    },
    {
      "metadata": {
        "id": "Sg6X1OGY4kCj",
        "colab_type": "code",
        "colab": {
          "autoexec": {
            "startup": false,
            "wait_interval": 0
          },
          "base_uri": "https://localhost:8080/",
          "height": 2023
        },
        "outputId": "31cf668f-ead2-4885-d6c3-f66387f1b488",
        "executionInfo": {
          "status": "ok",
          "timestamp": 1530379664546,
          "user_tz": -330,
          "elapsed": 1050,
          "user": {
            "displayName": "Jyothiprakash S",
            "photoUrl": "https://lh3.googleusercontent.com/a/default-user=s128",
            "userId": "101244440224751470017"
          }
        }
      },
      "cell_type": "code",
      "source": [
        "model= get_model()\n",
        "model.summary()"
      ],
      "execution_count": 34,
      "outputs": [
        {
          "output_type": "stream",
          "text": [
            "/usr/local/lib/python3.6/dist-packages/ipykernel_launcher.py:4: UserWarning: Update your `Conv2D` call to the Keras 2 API: `Conv2D(3, (1, 1), name=\"conv0\", padding=\"valid\", kernel_initializer=\"he_normal\")`\n",
            "  after removing the cwd from sys.path.\n",
            "/usr/local/lib/python3.6/dist-packages/ipykernel_launcher.py:5: UserWarning: Update your `Conv2D` call to the Keras 2 API: `Conv2D(32, (3, 1), name=\"conv1.0\", padding=\"valid\", kernel_initializer=\"he_normal\")`\n",
            "  \"\"\"\n",
            "/usr/local/lib/python3.6/dist-packages/ipykernel_launcher.py:6: UserWarning: Update your `Conv2D` call to the Keras 2 API: `Conv2D(32, (1, 3), name=\"conv1.1\", padding=\"valid\", kernel_initializer=\"he_normal\")`\n",
            "  \n",
            "/usr/local/lib/python3.6/dist-packages/ipykernel_launcher.py:7: UserWarning: Update your `Conv2D` call to the Keras 2 API: `Conv2D(32, (1, 1), name=\"conv1.2\", padding=\"valid\", kernel_initializer=\"he_normal\")`\n",
            "  import sys\n",
            "/usr/local/lib/python3.6/dist-packages/ipykernel_launcher.py:9: UserWarning: Update your `Conv2D` call to the Keras 2 API: `Conv2D(32, (3, 1), name=\"conv2.0\", padding=\"valid\", kernel_initializer=\"he_normal\")`\n",
            "  if __name__ == '__main__':\n",
            "/usr/local/lib/python3.6/dist-packages/ipykernel_launcher.py:10: UserWarning: Update your `Conv2D` call to the Keras 2 API: `Conv2D(32, (1, 3), name=\"conv2.1\", padding=\"valid\", kernel_initializer=\"he_normal\")`\n",
            "  # Remove the CWD from sys.path while we load stuff.\n",
            "/usr/local/lib/python3.6/dist-packages/ipykernel_launcher.py:11: UserWarning: Update your `Conv2D` call to the Keras 2 API: `Conv2D(32, (1, 1), name=\"conv2.2\", padding=\"valid\", kernel_initializer=\"he_normal\")`\n",
            "  # This is added back by InteractiveShellApp.init_path()\n",
            "/usr/local/lib/python3.6/dist-packages/ipykernel_launcher.py:15: UserWarning: Update your `Conv2D` call to the Keras 2 API: `Conv2D(64, (3, 1), name=\"conv3.0\", padding=\"valid\", kernel_initializer=\"he_normal\")`\n",
            "  from ipykernel import kernelapp as app\n",
            "/usr/local/lib/python3.6/dist-packages/ipykernel_launcher.py:16: UserWarning: Update your `Conv2D` call to the Keras 2 API: `Conv2D(64, (1, 3), name=\"conv3.1\", padding=\"valid\", kernel_initializer=\"he_normal\")`\n",
            "  app.launch_new_instance()\n",
            "/usr/local/lib/python3.6/dist-packages/ipykernel_launcher.py:17: UserWarning: Update your `Conv2D` call to the Keras 2 API: `Conv2D(64, (1, 1), name=\"conv3.2\", padding=\"valid\", kernel_initializer=\"he_normal\")`\n",
            "/usr/local/lib/python3.6/dist-packages/ipykernel_launcher.py:19: UserWarning: Update your `Conv2D` call to the Keras 2 API: `Conv2D(64, (3, 1), name=\"conv4.0\", padding=\"valid\", kernel_initializer=\"he_normal\")`\n",
            "/usr/local/lib/python3.6/dist-packages/ipykernel_launcher.py:20: UserWarning: Update your `Conv2D` call to the Keras 2 API: `Conv2D(64, (1, 3), name=\"conv4.1\", padding=\"valid\", kernel_initializer=\"he_normal\")`\n",
            "/usr/local/lib/python3.6/dist-packages/ipykernel_launcher.py:21: UserWarning: Update your `Conv2D` call to the Keras 2 API: `Conv2D(64, (1, 1), name=\"conv4.2\", padding=\"valid\", kernel_initializer=\"he_normal\")`\n",
            "/usr/local/lib/python3.6/dist-packages/ipykernel_launcher.py:25: UserWarning: Update your `Conv2D` call to the Keras 2 API: `Conv2D(128, (3, 1), name=\"conv5.0\", padding=\"valid\", kernel_initializer=\"he_normal\")`\n",
            "/usr/local/lib/python3.6/dist-packages/ipykernel_launcher.py:26: UserWarning: Update your `Conv2D` call to the Keras 2 API: `Conv2D(128, (1, 3), name=\"conv5.1\", padding=\"valid\", kernel_initializer=\"he_normal\")`\n",
            "/usr/local/lib/python3.6/dist-packages/ipykernel_launcher.py:27: UserWarning: Update your `Conv2D` call to the Keras 2 API: `Conv2D(128, (1, 1), name=\"conv5.2\", padding=\"valid\", kernel_initializer=\"he_normal\")`\n",
            "/usr/local/lib/python3.6/dist-packages/ipykernel_launcher.py:29: UserWarning: Update your `Conv2D` call to the Keras 2 API: `Conv2D(128, (3, 1), name=\"conv6.0\", padding=\"valid\", kernel_initializer=\"he_normal\")`\n",
            "/usr/local/lib/python3.6/dist-packages/ipykernel_launcher.py:30: UserWarning: Update your `Conv2D` call to the Keras 2 API: `Conv2D(128, (1, 3), name=\"conv6.1\", padding=\"valid\", kernel_initializer=\"he_normal\")`\n",
            "/usr/local/lib/python3.6/dist-packages/ipykernel_launcher.py:31: UserWarning: Update your `Conv2D` call to the Keras 2 API: `Conv2D(128, (1, 1), name=\"conv6.2\", padding=\"valid\", kernel_initializer=\"he_normal\")`\n",
            "/usr/local/lib/python3.6/dist-packages/ipykernel_launcher.py:37: UserWarning: Update your `Dense` call to the Keras 2 API: `Dense(512, name=\"hidden1\", kernel_initializer=\"he_normal\")`\n",
            "/usr/local/lib/python3.6/dist-packages/ipykernel_launcher.py:40: UserWarning: Update your `Dense` call to the Keras 2 API: `Dense(32, name=\"hidden2\", kernel_initializer=\"he_normal\")`\n"
          ],
          "name": "stderr"
        },
        {
          "output_type": "stream",
          "text": [
            "_________________________________________________________________\n",
            "Layer (type)                 Output Shape              Param #   \n",
            "=================================================================\n",
            "lambda_6 (Lambda)            (None, 64, 64, 3)         0         \n",
            "_________________________________________________________________\n",
            "conv0 (Conv2D)               (None, 64, 64, 3)         12        \n",
            "_________________________________________________________________\n",
            "conv1.0 (Conv2D)             (None, 62, 64, 32)        320       \n",
            "_________________________________________________________________\n",
            "conv1.1 (Conv2D)             (None, 62, 62, 32)        3104      \n",
            "_________________________________________________________________\n",
            "conv1.2 (Conv2D)             (None, 62, 62, 32)        1056      \n",
            "_________________________________________________________________\n",
            "elu_40 (ELU)                 (None, 62, 62, 32)        0         \n",
            "_________________________________________________________________\n",
            "conv2.0 (Conv2D)             (None, 60, 62, 32)        3104      \n",
            "_________________________________________________________________\n",
            "conv2.1 (Conv2D)             (None, 60, 60, 32)        3104      \n",
            "_________________________________________________________________\n",
            "conv2.2 (Conv2D)             (None, 60, 60, 32)        1056      \n",
            "_________________________________________________________________\n",
            "elu_41 (ELU)                 (None, 60, 60, 32)        0         \n",
            "_________________________________________________________________\n",
            "max_pooling2d_16 (MaxPooling (None, 30, 30, 32)        0         \n",
            "_________________________________________________________________\n",
            "dropout_25 (Dropout)         (None, 30, 30, 32)        0         \n",
            "_________________________________________________________________\n",
            "conv3.0 (Conv2D)             (None, 28, 30, 64)        6208      \n",
            "_________________________________________________________________\n",
            "conv3.1 (Conv2D)             (None, 28, 28, 64)        12352     \n",
            "_________________________________________________________________\n",
            "conv3.2 (Conv2D)             (None, 28, 28, 64)        4160      \n",
            "_________________________________________________________________\n",
            "elu_42 (ELU)                 (None, 28, 28, 64)        0         \n",
            "_________________________________________________________________\n",
            "conv4.0 (Conv2D)             (None, 26, 28, 64)        12352     \n",
            "_________________________________________________________________\n",
            "conv4.1 (Conv2D)             (None, 26, 26, 64)        12352     \n",
            "_________________________________________________________________\n",
            "conv4.2 (Conv2D)             (None, 26, 26, 64)        4160      \n",
            "_________________________________________________________________\n",
            "elu_43 (ELU)                 (None, 26, 26, 64)        0         \n",
            "_________________________________________________________________\n",
            "max_pooling2d_17 (MaxPooling (None, 13, 13, 64)        0         \n",
            "_________________________________________________________________\n",
            "dropout_26 (Dropout)         (None, 13, 13, 64)        0         \n",
            "_________________________________________________________________\n",
            "conv5.0 (Conv2D)             (None, 11, 13, 128)       24704     \n",
            "_________________________________________________________________\n",
            "conv5.1 (Conv2D)             (None, 11, 11, 128)       49280     \n",
            "_________________________________________________________________\n",
            "conv5.2 (Conv2D)             (None, 11, 11, 128)       16512     \n",
            "_________________________________________________________________\n",
            "elu_44 (ELU)                 (None, 11, 11, 128)       0         \n",
            "_________________________________________________________________\n",
            "conv6.0 (Conv2D)             (None, 9, 11, 128)        49280     \n",
            "_________________________________________________________________\n",
            "conv6.1 (Conv2D)             (None, 9, 9, 128)         49280     \n",
            "_________________________________________________________________\n",
            "conv6.2 (Conv2D)             (None, 9, 9, 128)         16512     \n",
            "_________________________________________________________________\n",
            "elu_45 (ELU)                 (None, 9, 9, 128)         0         \n",
            "_________________________________________________________________\n",
            "max_pooling2d_18 (MaxPooling (None, 4, 4, 128)         0         \n",
            "_________________________________________________________________\n",
            "dropout_27 (Dropout)         (None, 4, 4, 128)         0         \n",
            "_________________________________________________________________\n",
            "flatten_6 (Flatten)          (None, 2048)              0         \n",
            "_________________________________________________________________\n",
            "hidden1 (Dense)              (None, 512)               1049088   \n",
            "_________________________________________________________________\n",
            "elu_46 (ELU)                 (None, 512)               0         \n",
            "_________________________________________________________________\n",
            "dropout_28 (Dropout)         (None, 512)               0         \n",
            "_________________________________________________________________\n",
            "hidden2 (Dense)              (None, 32)                16416     \n",
            "_________________________________________________________________\n",
            "elu_47 (ELU)                 (None, 32)                0         \n",
            "_________________________________________________________________\n",
            "dropout_29 (Dropout)         (None, 32)                0         \n",
            "_________________________________________________________________\n",
            "output (Dense)               (None, 1)                 33        \n",
            "=================================================================\n",
            "Total params: 1,334,445\n",
            "Trainable params: 1,334,445\n",
            "Non-trainable params: 0\n",
            "_________________________________________________________________\n"
          ],
          "name": "stdout"
        },
        {
          "output_type": "stream",
          "text": [
            "/usr/local/lib/python3.6/dist-packages/ipykernel_launcher.py:43: UserWarning: Update your `Dense` call to the Keras 2 API: `Dense(1, name=\"output\", kernel_initializer=\"he_normal\")`\n"
          ],
          "name": "stderr"
        }
      ]
    },
    {
      "metadata": {
        "id": "oHiENiGotra-",
        "colab_type": "text"
      },
      "cell_type": "markdown",
      "source": [
        ""
      ]
    },
    {
      "metadata": {
        "id": "a9MT1m49trmG",
        "colab_type": "text"
      },
      "cell_type": "markdown",
      "source": [
        "### 5. Training the Model\n",
        "\n",
        "With baches of size 50 trained the model for 10 epoch with 20k examples in each. Validation data was used to evaluate model performance.  [ModelCheckpoint](https://keras.io/callbacks/#modelcheckpoint) is used to callback of keras to save best weights according to validation data evaluation.\n",
        "\n",
        "Validate on custom data from 1st track.Test on custom data from 2nd track"
      ]
    },
    {
      "metadata": {
        "id": "6nmvvQ1J8F02",
        "colab_type": "code",
        "colab": {
          "autoexec": {
            "startup": false,
            "wait_interval": 0
          },
          "base_uri": "https://localhost:8080/",
          "height": 734
        },
        "outputId": "a84954cd-be99-48db-b02a-ef2aa198a457"
      },
      "cell_type": "code",
      "source": [
        "model = get_model()\n",
        "model.fit_generator(\n",
        "    train_data_generator(50),\n",
        "    samples_per_epoch=20000,\n",
        "    nb_epoch=10,\n",
        "    validation_data=val_data_generator(250),\n",
        "    nb_val_samples=750,\n",
        "    callbacks=[ModelCheckpoint(filepath=\"best_validation.h5\", verbose=1, save_best_only=True)]\n",
        ")"
      ],
      "execution_count": 0,
      "outputs": [
        {
          "output_type": "stream",
          "text": [
            "/usr/local/lib/python3.6/dist-packages/ipykernel_launcher.py:4: UserWarning: Update your `Conv2D` call to the Keras 2 API: `Conv2D(3, (1, 1), name=\"conv0\", padding=\"valid\", kernel_initializer=\"he_normal\")`\n",
            "  after removing the cwd from sys.path.\n",
            "/usr/local/lib/python3.6/dist-packages/ipykernel_launcher.py:5: UserWarning: Update your `Conv2D` call to the Keras 2 API: `Conv2D(32, (3, 1), name=\"conv1.0\", padding=\"valid\", kernel_initializer=\"he_normal\")`\n",
            "  \"\"\"\n",
            "/usr/local/lib/python3.6/dist-packages/ipykernel_launcher.py:6: UserWarning: Update your `Conv2D` call to the Keras 2 API: `Conv2D(32, (1, 3), name=\"conv1.1\", padding=\"valid\", kernel_initializer=\"he_normal\")`\n",
            "  \n",
            "/usr/local/lib/python3.6/dist-packages/ipykernel_launcher.py:7: UserWarning: Update your `Conv2D` call to the Keras 2 API: `Conv2D(32, (1, 1), name=\"conv1.2\", padding=\"valid\", kernel_initializer=\"he_normal\")`\n",
            "  import sys\n",
            "/usr/local/lib/python3.6/dist-packages/ipykernel_launcher.py:9: UserWarning: Update your `Conv2D` call to the Keras 2 API: `Conv2D(32, (3, 1), name=\"conv2.0\", padding=\"valid\", kernel_initializer=\"he_normal\")`\n",
            "  if __name__ == '__main__':\n",
            "/usr/local/lib/python3.6/dist-packages/ipykernel_launcher.py:10: UserWarning: Update your `Conv2D` call to the Keras 2 API: `Conv2D(32, (1, 3), name=\"conv2.1\", padding=\"valid\", kernel_initializer=\"he_normal\")`\n",
            "  # Remove the CWD from sys.path while we load stuff.\n",
            "/usr/local/lib/python3.6/dist-packages/ipykernel_launcher.py:11: UserWarning: Update your `Conv2D` call to the Keras 2 API: `Conv2D(32, (1, 1), name=\"conv2.2\", padding=\"valid\", kernel_initializer=\"he_normal\")`\n",
            "  # This is added back by InteractiveShellApp.init_path()\n",
            "/usr/local/lib/python3.6/dist-packages/ipykernel_launcher.py:15: UserWarning: Update your `Conv2D` call to the Keras 2 API: `Conv2D(64, (3, 1), name=\"conv3.0\", padding=\"valid\", kernel_initializer=\"he_normal\")`\n",
            "  from ipykernel import kernelapp as app\n",
            "/usr/local/lib/python3.6/dist-packages/ipykernel_launcher.py:16: UserWarning: Update your `Conv2D` call to the Keras 2 API: `Conv2D(64, (1, 3), name=\"conv3.1\", padding=\"valid\", kernel_initializer=\"he_normal\")`\n",
            "  app.launch_new_instance()\n",
            "/usr/local/lib/python3.6/dist-packages/ipykernel_launcher.py:17: UserWarning: Update your `Conv2D` call to the Keras 2 API: `Conv2D(64, (1, 1), name=\"conv3.2\", padding=\"valid\", kernel_initializer=\"he_normal\")`\n",
            "/usr/local/lib/python3.6/dist-packages/ipykernel_launcher.py:19: UserWarning: Update your `Conv2D` call to the Keras 2 API: `Conv2D(64, (3, 1), name=\"conv4.0\", padding=\"valid\", kernel_initializer=\"he_normal\")`\n",
            "/usr/local/lib/python3.6/dist-packages/ipykernel_launcher.py:20: UserWarning: Update your `Conv2D` call to the Keras 2 API: `Conv2D(64, (1, 3), name=\"conv4.1\", padding=\"valid\", kernel_initializer=\"he_normal\")`\n",
            "/usr/local/lib/python3.6/dist-packages/ipykernel_launcher.py:21: UserWarning: Update your `Conv2D` call to the Keras 2 API: `Conv2D(64, (1, 1), name=\"conv4.2\", padding=\"valid\", kernel_initializer=\"he_normal\")`\n",
            "/usr/local/lib/python3.6/dist-packages/ipykernel_launcher.py:25: UserWarning: Update your `Conv2D` call to the Keras 2 API: `Conv2D(128, (3, 1), name=\"conv5.0\", padding=\"valid\", kernel_initializer=\"he_normal\")`\n",
            "/usr/local/lib/python3.6/dist-packages/ipykernel_launcher.py:26: UserWarning: Update your `Conv2D` call to the Keras 2 API: `Conv2D(128, (1, 3), name=\"conv5.1\", padding=\"valid\", kernel_initializer=\"he_normal\")`\n",
            "/usr/local/lib/python3.6/dist-packages/ipykernel_launcher.py:27: UserWarning: Update your `Conv2D` call to the Keras 2 API: `Conv2D(128, (1, 1), name=\"conv5.2\", padding=\"valid\", kernel_initializer=\"he_normal\")`\n",
            "/usr/local/lib/python3.6/dist-packages/ipykernel_launcher.py:29: UserWarning: Update your `Conv2D` call to the Keras 2 API: `Conv2D(128, (3, 1), name=\"conv6.0\", padding=\"valid\", kernel_initializer=\"he_normal\")`\n",
            "/usr/local/lib/python3.6/dist-packages/ipykernel_launcher.py:30: UserWarning: Update your `Conv2D` call to the Keras 2 API: `Conv2D(128, (1, 3), name=\"conv6.1\", padding=\"valid\", kernel_initializer=\"he_normal\")`\n",
            "/usr/local/lib/python3.6/dist-packages/ipykernel_launcher.py:31: UserWarning: Update your `Conv2D` call to the Keras 2 API: `Conv2D(128, (1, 1), name=\"conv6.2\", padding=\"valid\", kernel_initializer=\"he_normal\")`\n",
            "/usr/local/lib/python3.6/dist-packages/ipykernel_launcher.py:37: UserWarning: Update your `Dense` call to the Keras 2 API: `Dense(512, name=\"hidden1\", kernel_initializer=\"he_normal\")`\n",
            "/usr/local/lib/python3.6/dist-packages/ipykernel_launcher.py:40: UserWarning: Update your `Dense` call to the Keras 2 API: `Dense(32, name=\"hidden2\", kernel_initializer=\"he_normal\")`\n",
            "/usr/local/lib/python3.6/dist-packages/ipykernel_launcher.py:43: UserWarning: Update your `Dense` call to the Keras 2 API: `Dense(1, name=\"output\", kernel_initializer=\"he_normal\")`\n",
            "/usr/local/lib/python3.6/dist-packages/ipykernel_launcher.py:8: UserWarning: The semantics of the Keras 2 argument `steps_per_epoch` is not the same as the Keras 1 argument `samples_per_epoch`. `steps_per_epoch` is the number of batches to draw from the generator at each epoch. Basically steps_per_epoch = samples_per_epoch/batch_size. Similarly `nb_val_samples`->`validation_steps` and `val_samples`->`steps` arguments have changed. Update your method calls accordingly.\n",
            "  \n",
            "/usr/local/lib/python3.6/dist-packages/ipykernel_launcher.py:8: UserWarning: Update your `fit_generator` call to the Keras 2 API: `fit_generator(<generator..., validation_data=<generator..., callbacks=[<keras.ca..., steps_per_epoch=20000, epochs=10, validation_steps=750)`\n",
            "  \n"
          ],
          "name": "stderr"
        },
        {
          "output_type": "stream",
          "text": [
            "Epoch 1/10\n",
            " 1142/20000 [>.............................] - ETA: 1:08:07 - loss: 4.0651"
          ],
          "name": "stdout"
        },
        {
          "output_type": "stream",
          "text": [
            " 2453/20000 [==>...........................] - ETA: 1:03:23 - loss: 2.3713"
          ],
          "name": "stdout"
        },
        {
          "output_type": "stream",
          "text": [
            " 3772/20000 [====>.........................] - ETA: 58:55 - loss: 1.7208"
          ],
          "name": "stdout"
        },
        {
          "output_type": "stream",
          "text": [
            " 5227/20000 [======>.......................] - ETA: 53:39 - loss: 1.3140"
          ],
          "name": "stdout"
        },
        {
          "output_type": "stream",
          "text": [
            " 6614/20000 [========>.....................] - ETA: 48:31 - loss: 1.0649"
          ],
          "name": "stdout"
        },
        {
          "output_type": "stream",
          "text": [
            " 7993/20000 [==========>...................] - ETA: 43:27 - loss: 0.8899"
          ],
          "name": "stdout"
        },
        {
          "output_type": "stream",
          "text": [
            " 9585/20000 [=============>................] - ETA: 37:39 - loss: 0.7464"
          ],
          "name": "stdout"
        },
        {
          "output_type": "stream",
          "text": [
            "10976/20000 [===============>..............] - ETA: 32:29 - loss: 0.6547"
          ],
          "name": "stdout"
        },
        {
          "output_type": "stream",
          "text": [
            "12340/20000 [=================>............] - ETA: 27:36 - loss: 0.5848"
          ],
          "name": "stdout"
        },
        {
          "output_type": "stream",
          "text": [
            "13793/20000 [===================>..........] - ETA: 22:20 - loss: 0.5255"
          ],
          "name": "stdout"
        },
        {
          "output_type": "stream",
          "text": [
            "15427/20000 [======================>.......] - ETA: 16:26 - loss: 0.4722"
          ],
          "name": "stdout"
        },
        {
          "output_type": "stream",
          "text": [
            "16766/20000 [========================>.....] - ETA: 11:37 - loss: 0.4363"
          ],
          "name": "stdout"
        },
        {
          "output_type": "stream",
          "text": [
            "18215/20000 [==========================>...] - ETA: 6:25 - loss: 0.4035"
          ],
          "name": "stdout"
        },
        {
          "output_type": "stream",
          "text": [
            "19742/20000 [============================>.] - ETA: 55s - loss: 6833.7620"
          ],
          "name": "stdout"
        },
        {
          "output_type": "stream",
          "text": [
            "20000/20000 [==============================] - 4603s 230ms/step - loss: 157821496.8404 - val_loss: 0.1866\n",
            "\n",
            "Epoch 00001: val_loss improved from inf to 0.18663, saving model to best_validation.h5\n",
            "Epoch 2/10\n",
            "  282/20000 [..............................] - ETA: 1:06:54 - loss: 0.2538"
          ],
          "name": "stdout"
        },
        {
          "output_type": "stream",
          "text": [
            " 1605/20000 [=>............................] - ETA: 1:06:40 - loss: 2.7957"
          ],
          "name": "stdout"
        },
        {
          "output_type": "stream",
          "text": [
            " 2895/20000 [===>..........................] - ETA: 1:00:58 - loss: 1.6133"
          ],
          "name": "stdout"
        },
        {
          "output_type": "stream",
          "text": [
            " 4281/20000 [=====>........................] - ETA: 56:38 - loss: 215.3380"
          ],
          "name": "stdout"
        },
        {
          "output_type": "stream",
          "text": [
            " 5649/20000 [=======>......................] - ETA: 51:25 - loss: 163.2200"
          ],
          "name": "stdout"
        },
        {
          "output_type": "stream",
          "text": [
            " 6918/20000 [=========>....................] - ETA: 46:33 - loss: 133.3015"
          ],
          "name": "stdout"
        },
        {
          "output_type": "stream",
          "text": [
            " 8214/20000 [===========>..................] - ETA: 41:48 - loss: 130.1063"
          ],
          "name": "stdout"
        },
        {
          "output_type": "stream",
          "text": [
            " 9582/20000 [=============>................] - ETA: 36:54 - loss: 37405.0223"
          ],
          "name": "stdout"
        },
        {
          "output_type": "stream",
          "text": [
            "10930/20000 [===============>..............] - ETA: 32:05 - loss: 32791.8661"
          ],
          "name": "stdout"
        },
        {
          "output_type": "stream",
          "text": [
            "12281/20000 [=================>............] - ETA: 27:15 - loss: 29184.5342"
          ],
          "name": "stdout"
        },
        {
          "output_type": "stream",
          "text": [
            "13596/20000 [===================>..........] - ETA: 22:35 - loss: 32677.5244"
          ],
          "name": "stdout"
        },
        {
          "output_type": "stream",
          "text": [
            "14917/20000 [=====================>........] - ETA: 17:55 - loss: 563937.8775"
          ],
          "name": "stdout"
        },
        {
          "output_type": "stream",
          "text": [
            "16305/20000 [=======================>......] - ETA: 13:01 - loss: 515931.4060"
          ],
          "name": "stdout"
        },
        {
          "output_type": "stream",
          "text": [
            "17872/20000 [=========================>....] - ETA: 7:29 - loss: 470695.0459"
          ],
          "name": "stdout"
        },
        {
          "output_type": "stream",
          "text": [
            "18476/20000 [==========================>...] - ETA: 5:22 - loss: 455307.5324"
          ],
          "name": "stdout"
        }
      ]
    },
    {
      "metadata": {
        "id": "KxA8GattXx6j",
        "colab_type": "text"
      },
      "cell_type": "markdown",
      "source": [
        "### 6. Evaluation"
      ]
    },
    {
      "metadata": {
        "id": "SBrf8MUsYIow",
        "colab_type": "text"
      },
      "cell_type": "markdown",
      "source": [
        "After model was trained,  3 evaluation metrics are printed:\n",
        "\n",
        "- latest epoch weights on val data.\n",
        "- best weights on val data.\n",
        "- final evaluation on test data.\n",
        "\n",
        "\n",
        "\n"
      ]
    },
    {
      "metadata": {
        "id": "4uJMBGHeYKXP",
        "colab_type": "code",
        "colab": {
          "autoexec": {
            "startup": false,
            "wait_interval": 0
          }
        }
      },
      "cell_type": "code",
      "source": [
        "print('Latest', model.evaluate_generator(val_data_generator(250), 750))\n",
        "model.load_weights('best_validation.h5')\n",
        "print('Best', model.evaluate_generator(val_data_generator(250), 750))"
      ],
      "execution_count": 0,
      "outputs": []
    },
    {
      "metadata": {
        "id": "FCCqE2gVYNr6",
        "colab_type": "code",
        "colab": {
          "autoexec": {
            "startup": false,
            "wait_interval": 0
          }
        }
      },
      "cell_type": "code",
      "source": [
        "model.evaluate_generator(test_data_generator(50), 950)"
      ],
      "execution_count": 0,
      "outputs": []
    },
    {
      "metadata": {
        "id": "tE_8e5O7YSFa",
        "colab_type": "code",
        "colab": {
          "autoexec": {
            "startup": false,
            "wait_interval": 0
          }
        }
      },
      "cell_type": "code",
      "source": [
        "def get_samples(log, folder):\n",
        "    for _ in range(10):\n",
        "        row = log.sample()\n",
        "        imgpath = row.center.values[0]\n",
        "        imgpath = imgpath[imgpath.find('IMG'):]\n",
        "        img = cv2.imread(folder + imgpath)\n",
        "        img = cv2.cvtColor(img, cv2.COLOR_BGR2RGB)\n",
        "        img = image_transformation(img)\n",
        "        print(row.steering.values[0], model.predict(np.expand_dims(img, axis=0))[0])"
      ],
      "execution_count": 0,
      "outputs": []
    },
    {
      "metadata": {
        "id": "dOlY8l5Ff6wF",
        "colab_type": "text"
      },
      "cell_type": "markdown",
      "source": [
        "Manual checks of how the model predicts the output on validation data:"
      ]
    },
    {
      "metadata": {
        "id": "ZoYX6jTlYWqP",
        "colab_type": "code",
        "colab": {
          "autoexec": {
            "startup": false,
            "wait_interval": 0
          }
        }
      },
      "cell_type": "code",
      "source": [
        "get_samples(data_val, DATA_VAL_FOLDER)"
      ],
      "execution_count": 0,
      "outputs": []
    },
    {
      "metadata": {
        "id": "X025rHpff_EG",
        "colab_type": "text"
      },
      "cell_type": "markdown",
      "source": [
        "Manual checks of how the model predicts the output on test data:"
      ]
    },
    {
      "metadata": {
        "id": "GOCGnNABYZvs",
        "colab_type": "code",
        "colab": {
          "autoexec": {
            "startup": false,
            "wait_interval": 0
          }
        }
      },
      "cell_type": "code",
      "source": [
        "get_samples(data_test, DATA_TEST_FOLDER)"
      ],
      "execution_count": 0,
      "outputs": []
    },
    {
      "metadata": {
        "id": "2SjH7gjmYduC",
        "colab_type": "text"
      },
      "cell_type": "markdown",
      "source": [
        "### 7. Save and use\n"
      ]
    },
    {
      "metadata": {
        "id": "m5mWqUfZYnF2",
        "colab_type": "code",
        "colab": {
          "autoexec": {
            "startup": false,
            "wait_interval": 0
          }
        }
      },
      "cell_type": "code",
      "source": [
        "import json\n",
        "with open('model.json', 'w') as f:\n",
        "    f.write(model.to_json())\n",
        "model.save_weights('model.h5')"
      ],
      "execution_count": 0,
      "outputs": []
    },
    {
      "metadata": {
        "id": "HdHYTIOxOmnU",
        "colab_type": "text"
      },
      "cell_type": "markdown",
      "source": [
        "## References:\n",
        "[End to End Learning for Self-Driving Cars\n",
        "Mariusz Bojarski et-al](https://arxiv.org/abs/1604.07316)\n",
        "[Medium-blog on self driving cars](https://medium.com/decode-ways/hacktorial-self-driving-car-df81dde2bc25)\n",
        "\n",
        "[GIthub-Navoshta:end-to-end-deep-learning](https://navoshta.com/end-to-end-deep-learning/)\n",
        "\n",
        "[CS231n](http://cs231n.github.io/convolutional-networks/#conv)\n",
        "\n",
        "[How_to_simulate_a_self_driving_car](https://github.com/llSourcell/How_to_simulate_a_self_driving_car/blob/master/self-driving-car.ipynb)\n",
        "\n",
        "[Medium-Hacktorial #1: Building a Self-Driving Car with Deep Learning](https://medium.com/decode-ways/hacktorial-self-driving-car-df81dde2bc25)\n",
        "\n",
        "[Quora-what is a \"dense\" and a \"dropout\" layer](https://www.quora.com/In-Keras-what-is-a-dense-and-a-dropout-layer)\n",
        "\n",
        "[Siraj Raval-How to Simulate a Self-Driving Car](https://www.youtube.com/watch?v=EaY5QiZwSP4)"
      ]
    }
  ]
}